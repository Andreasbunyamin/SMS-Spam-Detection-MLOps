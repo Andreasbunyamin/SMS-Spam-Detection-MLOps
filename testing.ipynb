{
  "cells": [
    {
      "cell_type": "code",
      "execution_count": 1,
      "metadata": {
        "id": "3YQB-fnUKJ7B"
      },
      "outputs": [],
      "source": [
        "import tensorflow as tf\n",
        "import pandas as pd\n",
        "import requests\n",
        "import json\n",
        "import base64"
      ]
    },
    {
      "cell_type": "code",
      "execution_count": null,
      "metadata": {
        "id": "5dU8cggLKJ7C"
      },
      "outputs": [],
      "source": [
        "df = pd.read_csv(\"data/spam.csv\")\n",
        "test_text = df[\"v2\"][0]\n",
        "test_text"
      ]
    },
    {
      "cell_type": "code",
      "execution_count": 3,
      "metadata": {
        "id": "68dh84FLKJ7C"
      },
      "outputs": [],
      "source": [
        "def prepare_json(text):\n",
        "    feature_spec = {\n",
        "        \"text\": tf.train.Feature(bytes_list=tf.train.BytesList(value=[bytes(text, \"utf-8\")]))\n",
        "    }\n",
        "\n",
        "    example = tf.train.Example(\n",
        "        features=tf.train.Features(feature=feature_spec)\n",
        "    ).SerializeToString()\n",
        "\n",
        "    result = [\n",
        "        {\n",
        "            \"examples\": {\n",
        "                \"b64\": base64.b64encode(example).decode()\n",
        "            }\n",
        "        }\n",
        "    ]\n",
        "\n",
        "    return json.dumps({\n",
        "        \"signature_name\": \"serving_default\",\n",
        "        \"instances\": result\n",
        "    })"
      ]
    },
    {
      "cell_type": "code",
      "execution_count": 4,
      "metadata": {
        "id": "1NA8oEErKJ7D"
      },
      "outputs": [],
      "source": [
        "def make_predictions(text):\n",
        "    json_data = prepare_json(text)\n",
        "\n",
        "    endpoint = \"http://localhost:8080/v1/models/spam-detection-model:predict\"\n",
        "    response = requests.post(endpoint, data=json_data)\n",
        "\n",
        "    prediction = response.json()[\"predictions\"][0][0]\n",
        "    return \"Not Spam\" if prediction > 0.6 else \"Spam\""
      ]
    },
    {
      "cell_type": "code",
      "execution_count": null,
      "metadata": {
        "id": "T-S0tiunPmMs"
      },
      "outputs": [],
      "source": [
        "make_predictions(test_text)"
      ]
    }
  ],
  "metadata": {
    "colab": {
      "provenance": []
    },
    "kernelspec": {
      "display_name": "Python 3.10.8 64-bit",
      "language": "python",
      "name": "python3"
    },
    "language_info": {
      "codemirror_mode": {
        "name": "ipython",
        "version": 3
      },
      "file_extension": ".py",
      "mimetype": "text/x-python",
      "name": "python",
      "nbconvert_exporter": "python",
      "pygments_lexer": "ipython3",
      "version": "3.10.8"
    },
    "orig_nbformat": 4,
    "vscode": {
      "interpreter": {
        "hash": "805bae728bb13f21baf992c7feee8fce4774a98a979a4908e1d43eb5e2a0d81c"
      }
    }
  },
  "nbformat": 4,
  "nbformat_minor": 0
}
